{
 "cells": [
  {
   "cell_type": "code",
   "execution_count": 1,
   "id": "906c1d05",
   "metadata": {},
   "outputs": [],
   "source": [
    "import pandas as pd\n",
    "import numpy as np\n",
    "from collections import defaultdict\n",
    "from sklearn import preprocessing"
   ]
  },
  {
   "cell_type": "code",
   "execution_count": 2,
   "id": "edd33f19",
   "metadata": {},
   "outputs": [],
   "source": [
    "cols = [\"movie_id\" , \"name\" , \"release_date\",\"NAN\",\"imdb_link\",\"unknown\",\"Action\",\"Adventure\",\"Animation\",\"Children's\",\"Comedy\",\"Crime\",\"Documentary\",\"Drama\",\"Fantasy\",\"Film-Noir\",\"Horror\",\"Musical\",\"Mystery\",\"Romance\",\"Sci-Fi\",\"Thriller\",\"War\",\"Western\"]\n",
    "movie_genre_data = pd.read_csv('u.item', sep='|', names=cols , encoding='latin-1')"
   ]
  },
  {
   "cell_type": "code",
   "execution_count": 3,
   "id": "2a209a94",
   "metadata": {},
   "outputs": [],
   "source": [
    "genres = [\"unknown\",\"Action\",\"Adventure\",\"Animation\",\"Children's\",\"Comedy\",\"Crime\",\"Documentary\",\"Drama\",\"Fantasy\",\"Film-Noir\",\"Horror\",\"Musical\",\"Mystery\",\"Romance\",\"Sci-Fi\",\"Thriller\",\"War\",\"Western\"]\n",
    "\n",
    "Movie_vs_genre = []\n",
    "Movie_vs_genre.append([0 for i in range(19)])\n",
    "for index,row in movie_genre_data.iterrows():\n",
    "    a = []\n",
    "    for genre in genres:\n",
    "        a.append(int(row[genre]))\n",
    "    Movie_vs_genre.append(a)\n",
    "        "
   ]
  },
  {
   "cell_type": "code",
   "execution_count": 4,
   "id": "45670b69",
   "metadata": {},
   "outputs": [
    {
     "data": {
      "text/plain": [
       "(1683, 19)"
      ]
     },
     "execution_count": 4,
     "metadata": {},
     "output_type": "execute_result"
    }
   ],
   "source": [
    "Movie_vs_genre = np.array(Movie_vs_genre)\n",
    "Movie_vs_genre = preprocessing.normalize(Movie_vs_genre , axis = 1)\n",
    "\n",
    "Movie_vs_genre.shape"
   ]
  },
  {
   "cell_type": "code",
   "execution_count": 5,
   "id": "13222c19",
   "metadata": {},
   "outputs": [],
   "source": [
    "data = pd.read_csv(\"u.data\",sep='\\t',names = [\"user\",\"movie\",\"ratings\",\"id\"])"
   ]
  },
  {
   "cell_type": "code",
   "execution_count": 6,
   "id": "10f17ce8",
   "metadata": {},
   "outputs": [
    {
     "data": {
      "text/html": [
       "<div>\n",
       "<style scoped>\n",
       "    .dataframe tbody tr th:only-of-type {\n",
       "        vertical-align: middle;\n",
       "    }\n",
       "\n",
       "    .dataframe tbody tr th {\n",
       "        vertical-align: top;\n",
       "    }\n",
       "\n",
       "    .dataframe thead th {\n",
       "        text-align: right;\n",
       "    }\n",
       "</style>\n",
       "<table border=\"1\" class=\"dataframe\">\n",
       "  <thead>\n",
       "    <tr style=\"text-align: right;\">\n",
       "      <th></th>\n",
       "      <th>user</th>\n",
       "      <th>movie</th>\n",
       "      <th>ratings</th>\n",
       "      <th>id</th>\n",
       "    </tr>\n",
       "  </thead>\n",
       "  <tbody>\n",
       "    <tr>\n",
       "      <th>0</th>\n",
       "      <td>196</td>\n",
       "      <td>242</td>\n",
       "      <td>3</td>\n",
       "      <td>881250949</td>\n",
       "    </tr>\n",
       "    <tr>\n",
       "      <th>1</th>\n",
       "      <td>186</td>\n",
       "      <td>302</td>\n",
       "      <td>3</td>\n",
       "      <td>891717742</td>\n",
       "    </tr>\n",
       "    <tr>\n",
       "      <th>2</th>\n",
       "      <td>22</td>\n",
       "      <td>377</td>\n",
       "      <td>1</td>\n",
       "      <td>878887116</td>\n",
       "    </tr>\n",
       "    <tr>\n",
       "      <th>3</th>\n",
       "      <td>244</td>\n",
       "      <td>51</td>\n",
       "      <td>2</td>\n",
       "      <td>880606923</td>\n",
       "    </tr>\n",
       "    <tr>\n",
       "      <th>4</th>\n",
       "      <td>166</td>\n",
       "      <td>346</td>\n",
       "      <td>1</td>\n",
       "      <td>886397596</td>\n",
       "    </tr>\n",
       "  </tbody>\n",
       "</table>\n",
       "</div>"
      ],
      "text/plain": [
       "   user  movie  ratings         id\n",
       "0   196    242        3  881250949\n",
       "1   186    302        3  891717742\n",
       "2    22    377        1  878887116\n",
       "3   244     51        2  880606923\n",
       "4   166    346        1  886397596"
      ]
     },
     "execution_count": 6,
     "metadata": {},
     "output_type": "execute_result"
    }
   ],
   "source": [
    "data.head()"
   ]
  },
  {
   "cell_type": "code",
   "execution_count": 7,
   "id": "3327116e",
   "metadata": {},
   "outputs": [],
   "source": [
    "user_vs_genre = np.array([[0 for i in range(len(genres))] for i in range(max(data.user.unique())+1)])"
   ]
  },
  {
   "cell_type": "code",
   "execution_count": 8,
   "id": "4fa68251",
   "metadata": {},
   "outputs": [
    {
     "data": {
      "text/plain": [
       "(944, 19)"
      ]
     },
     "execution_count": 8,
     "metadata": {},
     "output_type": "execute_result"
    }
   ],
   "source": [
    "user_vs_genre.shape"
   ]
  },
  {
   "cell_type": "code",
   "execution_count": 9,
   "id": "eb152b74",
   "metadata": {},
   "outputs": [],
   "source": [
    "for index,row in data.iterrows():\n",
    "    user = int(row[\"user\"])\n",
    "    movie = int(row[\"movie\"])\n",
    "    rating = int(row[\"ratings\"])\n",
    "    user_vs_genre[user] = user_vs_genre[user] + rating * Movie_vs_genre[movie]  "
   ]
  },
  {
   "cell_type": "code",
   "execution_count": 10,
   "id": "2d44de5e",
   "metadata": {},
   "outputs": [
    {
     "data": {
      "text/plain": [
       "(944, 19)"
      ]
     },
     "execution_count": 10,
     "metadata": {},
     "output_type": "execute_result"
    }
   ],
   "source": [
    "user_vs_genre.shape"
   ]
  },
  {
   "cell_type": "code",
   "execution_count": 11,
   "id": "1cce7d52",
   "metadata": {},
   "outputs": [
    {
     "data": {
      "text/plain": [
       "array([  4, 110,  47,  21,  20, 200,  39,  24, 291,   3,   3,  22,  17,\n",
       "        10,  89,  84,  95,  44,  12])"
      ]
     },
     "execution_count": 11,
     "metadata": {},
     "output_type": "execute_result"
    }
   ],
   "source": [
    "user_vs_genre[1]"
   ]
  },
  {
   "cell_type": "code",
   "execution_count": 12,
   "id": "4cbfc6ce",
   "metadata": {},
   "outputs": [],
   "source": [
    "nm_user_genre = preprocessing.normalize(user_vs_genre , axis = 1)"
   ]
  },
  {
   "cell_type": "code",
   "execution_count": 13,
   "id": "d97a14b6",
   "metadata": {},
   "outputs": [],
   "source": [
    "user_vs_movie = np.matmul(nm_user_genre , Movie_vs_genre.T)"
   ]
  },
  {
   "cell_type": "code",
   "execution_count": 14,
   "id": "c69184b8",
   "metadata": {},
   "outputs": [
    {
     "data": {
      "text/plain": [
       "(944, 1683)"
      ]
     },
     "execution_count": 14,
     "metadata": {},
     "output_type": "execute_result"
    }
   ],
   "source": [
    "user_vs_movie.shape\n",
    "    "
   ]
  },
  {
   "cell_type": "code",
   "execution_count": 15,
   "id": "a810ae2d",
   "metadata": {},
   "outputs": [],
   "source": [
    "user_movie_ranking = defaultdict(list)\n",
    "for i in range(len(user_vs_movie)):\n",
    "    row = user_vs_movie[i , :]\n",
    "    d = defaultdict(float)\n",
    "    for j in range(len(row)):\n",
    "        d[j] = row[j]\n",
    "    liked_movies = sorted(d.keys() , key = lambda x:d[x],reverse = True)\n",
    "    user_movie_ranking [i] = liked_movies[:10]"
   ]
  },
  {
   "cell_type": "code",
   "execution_count": 16,
   "id": "53de74b1",
   "metadata": {},
   "outputs": [
    {
     "data": {
      "text/plain": [
       "[34, 45, 47, 65, 93, 150, 236, 316, 345, 347]"
      ]
     },
     "execution_count": 16,
     "metadata": {},
     "output_type": "execute_result"
    }
   ],
   "source": [
    "user_movie_ranking[1]"
   ]
  },
  {
   "cell_type": "code",
   "execution_count": 17,
   "id": "909a6e07",
   "metadata": {},
   "outputs": [],
   "source": [
    "\n",
    "cols = [\"movie_id\" , \"name\" , \"release_date\",\"imdb_link\",\"bit1\",\"bit2\",\"bit3\",\"bit4\",\"bit5\",\"bit6\",\"bit7\",\"bit8\",\"bit9\",\"bit10\",\"bit12\",\"bit13\",\"bit14\",\"bit15\",\"bit16\",\"bit17\",\"bit18\",\"bit19\",\"bit20\",\"bit21\"]\n",
    "movie_names = pd.read_csv('u.item', sep='|', names=cols , encoding='latin-1')\n",
    "movie_name_dict = defaultdict(str)\n",
    "for index, row in movie_names.iterrows():\n",
    "    movie_name_dict[int(row[\"movie_id\"])] = row[\"name\"]"
   ]
  },
  {
   "cell_type": "code",
   "execution_count": 18,
   "id": "dd78b48c",
   "metadata": {},
   "outputs": [
    {
     "name": "stdout",
     "output_type": "stream",
     "text": [
      "Predictions for user number: 1\n",
      "Doom Generation, The (1995)\n",
      "Eat Drink Man Woman (1994)\n",
      "Ed Wood (1994)\n",
      "What's Eating Gilbert Grape (1993)\n",
      "Welcome to the Dollhouse (1995)\n",
      "Swingers (1996)\n",
      "Citizen Ruth (1996)\n",
      "As Good As It Gets (1997)\n",
      "Deconstructing Harry (1997)\n",
      "Wag the Dog (1997)\n"
     ]
    }
   ],
   "source": [
    "predict_for = 1\n",
    "print(\"Predictions for user number:\",predict_for)\n",
    "for i in user_movie_ranking[predict_for]:\n",
    "    print(movie_name_dict[i])"
   ]
  },
  {
   "cell_type": "code",
   "execution_count": null,
   "id": "1a8cb174",
   "metadata": {},
   "outputs": [],
   "source": []
  }
 ],
 "metadata": {
  "kernelspec": {
   "display_name": "Python 3 (ipykernel)",
   "language": "python",
   "name": "python3"
  },
  "language_info": {
   "codemirror_mode": {
    "name": "ipython",
    "version": 3
   },
   "file_extension": ".py",
   "mimetype": "text/x-python",
   "name": "python",
   "nbconvert_exporter": "python",
   "pygments_lexer": "ipython3",
   "version": "3.9.7"
  }
 },
 "nbformat": 4,
 "nbformat_minor": 5
}
