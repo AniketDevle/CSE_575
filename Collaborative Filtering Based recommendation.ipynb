{
 "cells": [
  {
   "cell_type": "code",
   "execution_count": 1,
   "id": "589b84e5",
   "metadata": {},
   "outputs": [],
   "source": [
    "import pandas as pd\n",
    "import numpy as np\n",
    "from sklearn.decomposition import TruncatedSVD\n",
    "from sklearn.metrics import pairwise_distances\n",
    "from collections import defaultdict"
   ]
  },
  {
   "cell_type": "code",
   "execution_count": 2,
   "id": "e6dbf9ed",
   "metadata": {},
   "outputs": [],
   "source": [
    "data = pd.read_csv(\"data/u.data\",sep='\\t',names = [\"user\",\"movie\",\"ratings\",\"id\"])"
   ]
  },
  {
   "cell_type": "code",
   "execution_count": 3,
   "id": "cad667f2",
   "metadata": {},
   "outputs": [],
   "source": [
    "max_user = max(data.user.unique())\n",
    "max_movies = max(data.movie.unique())\n",
    "arr = [[0 for i in range(max_movies+1)] for i in range(max_user+1)]\n",
    "\n",
    "for index, row in data.iterrows():\n",
    "    user = int(row[\"user\"])\n",
    "    movie = int(row[\"movie\"])\n",
    "    rating  = int(row[\"ratings\"])\n",
    "    arr[user][movie] = rating \n",
    "\n",
    "arr = np.array(arr[1:])"
   ]
  },
  {
   "cell_type": "code",
   "execution_count": 4,
   "id": "95474b02",
   "metadata": {},
   "outputs": [],
   "source": [
    "def get_truncated(arr , n_comp):\n",
    "    svd = TruncatedSVD(n_components=n_comp)\n",
    "    brr = svd.fit_transform(arr)\n",
    "    return brr"
   ]
  },
  {
   "cell_type": "code",
   "execution_count": 5,
   "id": "1a376775",
   "metadata": {},
   "outputs": [],
   "source": [
    "brr = get_truncated(arr , 20)"
   ]
  },
  {
   "cell_type": "code",
   "execution_count": 6,
   "id": "7382964e",
   "metadata": {},
   "outputs": [],
   "source": [
    "distance_matrix = pairwise_distances(brr , metric = \"cosine\")"
   ]
  },
  {
   "cell_type": "code",
   "execution_count": 7,
   "id": "3fd09913",
   "metadata": {},
   "outputs": [],
   "source": [
    "nearest_10_dict = defaultdict(list)\n",
    "\n",
    "for j in range(distance_matrix.shape[0]):\n",
    "    current_column = distance_matrix[:,j]\n",
    "    d1 = defaultdict(float)\n",
    "    for i in range(len(current_column)):\n",
    "        d1[i] = distance_matrix[i,j]\n",
    "    a = sorted(d1.keys() , key = lambda x:d1[x])\n",
    "    nearest_10_dict[j] = a[:10]"
   ]
  },
  {
   "cell_type": "code",
   "execution_count": 8,
   "id": "6c726181",
   "metadata": {},
   "outputs": [],
   "source": [
    "def predict(nearest_10_dict,predict_for):\n",
    "    nearest_to_predict = nearest_10_dict[predict_for]\n",
    "    movie_dict = defaultdict(int)\n",
    "    for i in nearest_to_predict:\n",
    "        for j in range(max_movies+1):\n",
    "            movie_dict[j] += int(arr[i][j])\n",
    "    zrr = sorted(movie_dict , key = lambda x: movie_dict[x] , reverse = True)\n",
    "    zrr = zrr[:10]\n",
    "    return zrr"
   ]
  },
  {
   "cell_type": "code",
   "execution_count": 9,
   "id": "26faaa76",
   "metadata": {},
   "outputs": [],
   "source": [
    "predict_for = 1\n",
    "\n",
    "predictions = predict(nearest_10_dict , predict_for)"
   ]
  },
  {
   "cell_type": "code",
   "execution_count": 10,
   "id": "6707398d",
   "metadata": {},
   "outputs": [],
   "source": [
    "\n",
    "cols = [\"movie_id\" , \"name\" , \"release_date\",\"imdb_link\",\"bit1\",\"bit2\",\"bit3\",\"bit4\",\"bit5\",\"bit6\",\"bit7\",\"bit8\",\"bit9\",\"bit10\",\"bit12\",\"bit13\",\"bit14\",\"bit15\",\"bit16\",\"bit17\",\"bit18\",\"bit19\",\"bit20\",\"bit21\"]\n",
    "movie_names = pd.read_csv('data/u.item', sep='|', names=cols , encoding='latin-1')\n",
    "movie_name_dict = defaultdict(str)\n",
    "for index, row in movie_names.iterrows():\n",
    "    movie_name_dict[int(row[\"movie_id\"])] = row[\"name\"]"
   ]
  },
  {
   "cell_type": "code",
   "execution_count": 11,
   "id": "240e8b69",
   "metadata": {},
   "outputs": [
    {
     "name": "stdout",
     "output_type": "stream",
     "text": [
      "Predictions for user number: 1\n",
      "Fargo (1996)\n",
      "Godfather, The (1972)\n",
      "Full Monty, The (1997)\n",
      "English Patient, The (1996)\n",
      "Star Wars (1977)\n",
      "L.A. Confidential (1997)\n",
      "Sense and Sensibility (1995)\n",
      "Lone Star (1996)\n",
      "Leaving Las Vegas (1995)\n",
      "Secrets & Lies (1996)\n"
     ]
    }
   ],
   "source": [
    "print(\"Predictions for user number:\",predict_for)\n",
    "for i in predictions:\n",
    "    print(movie_name_dict[i])"
   ]
  },
  {
   "cell_type": "code",
   "execution_count": null,
   "id": "f2b503cb",
   "metadata": {},
   "outputs": [],
   "source": []
  }
 ],
 "metadata": {
  "kernelspec": {
   "display_name": "Python 3 (ipykernel)",
   "language": "python",
   "name": "python3"
  },
  "language_info": {
   "codemirror_mode": {
    "name": "ipython",
    "version": 3
   },
   "file_extension": ".py",
   "mimetype": "text/x-python",
   "name": "python",
   "nbconvert_exporter": "python",
   "pygments_lexer": "ipython3",
   "version": "3.9.7"
  }
 },
 "nbformat": 4,
 "nbformat_minor": 5
}
